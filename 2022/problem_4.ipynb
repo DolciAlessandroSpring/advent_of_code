{
 "cells": [
  {
   "cell_type": "markdown",
   "id": "4681abc5",
   "metadata": {},
   "source": [
    "--- Day 4: Camp Cleanup ---\n",
    "\n",
    "\n",
    "Space needs to be cleared before the last supplies can be unloaded from the ships, and so several Elves have been assigned the job of cleaning up sections of the camp. Every section has a unique ID number, and each Elf is assigned a range of section IDs.\n",
    "\n",
    "However, as some of the Elves compare their section assignments with each other, they've noticed that many of the assignments overlap. To try to quickly find overlaps and reduce duplicated effort, the Elves pair up and make a big list of the section assignments for each pair (your puzzle input).\n",
    "\n",
    "For example, consider the following list of section assignment pairs:\n",
    "\n",
    "2-4,6-8\n",
    "2-3,4-5\n",
    "5-7,7-9\n",
    "2-8,3-7\n",
    "6-6,4-6\n",
    "2-6,4-8\n",
    "For the first few pairs, this list means:\n",
    "\n",
    "Within the first pair of Elves, the first Elf was assigned sections 2-4 (sections 2, 3, and 4), while the second Elf was assigned sections 6-8 (sections 6, 7, 8).\n",
    "The Elves in the second pair were each assigned two sections.\n",
    "The Elves in the third pair were each assigned three sections: one got sections 5, 6, and 7, while the other also got 7, plus 8 and 9.\n",
    "This example list uses single-digit section IDs to make it easier to draw; your actual list might contain larger numbers. Visually, these pairs of section assignments look like this:\n",
    "\n",
    "\n",
    ".234.....  2-4\n",
    "\n",
    ".....678.  6-8\n",
    "\n",
    "\n",
    ".23......  2-3\n",
    "\n",
    "...45....  4-5\n",
    "\n",
    "\n",
    "....567..  5-7\n",
    "\n",
    "......789  7-9\n",
    "\n",
    "\n",
    ".2345678.  2-8\n",
    "\n",
    "..34567..  3-7\n",
    "\n",
    "\n",
    ".....6...  6-6\n",
    "\n",
    "...456...  4-6\n",
    "\n",
    "\n",
    ".23456...  2-6\n",
    "\n",
    "...45678.  4-8\n",
    "\n",
    "\n",
    "Some of the pairs have noticed that one of their assignments fully contains the other. For example, 2-8 fully contains 3-7, and 6-6 is fully contained by 4-6. In pairs where one assignment fully contains the other, one Elf in the pair would be exclusively cleaning sections their partner will already be cleaning, so these seem like the most in need of reconsideration. In this example, there are 2 such pairs.\n",
    "\n",
    "In how many assignment pairs does one range fully contain the other?"
   ]
  },
  {
   "cell_type": "code",
   "execution_count": 1,
   "id": "f262e55f",
   "metadata": {},
   "outputs": [],
   "source": [
    "# reading file\n",
    "\n",
    "txt = open(\"/Users/adolci/Documents/Python/private/advent_of_code/problem_4_input.txt\", 'r').read()\n",
    "couples = txt.split(\"\\n\")[:-1]  # last element is empty"
   ]
  },
  {
   "cell_type": "code",
   "execution_count": 2,
   "id": "c23e21e1",
   "metadata": {},
   "outputs": [],
   "source": [
    "def split_couple_into_two_elements(couple):\n",
    "    split_couple = [int(a) for a in couple.replace(\",\", \"-\").split(\"-\")]\n",
    "    return [split_couple[:2], split_couple[2:]]\n",
    "\n",
    "def get_max_field_len(list1, list2):\n",
    "    if (list1[1]-list1[0]) > (list2[1]-list2[0]):\n",
    "        return list1\n",
    "    else:\n",
    "        return list2"
   ]
  },
  {
   "cell_type": "code",
   "execution_count": 3,
   "id": "787d68d6",
   "metadata": {},
   "outputs": [],
   "source": [
    "inclusive_couples = 0\n",
    "\n",
    "for couple in couples:\n",
    "\n",
    "    split_couple = split_couple_into_two_elements(couple)\n",
    "\n",
    "    bigger_field = get_max_field_len(split_couple[0], split_couple[1])\n",
    "\n",
    "    if (\n",
    "        # bigger_field must contain both the fields\n",
    "        (bigger_field[0] <= min(split_couple[0][0], split_couple[1][0])) &\n",
    "        (bigger_field[1] >= max(split_couple[0][1], split_couple[1][1]))\n",
    "    ):\n",
    "        inclusive_couples += 1"
   ]
  },
  {
   "cell_type": "code",
   "execution_count": 4,
   "id": "b5e47949",
   "metadata": {},
   "outputs": [
    {
     "name": "stdout",
     "output_type": "stream",
     "text": [
      "We have 595 inclusive couples.\n"
     ]
    }
   ],
   "source": [
    "print(f'We have {inclusive_couples} inclusive couples.')"
   ]
  },
  {
   "cell_type": "code",
   "execution_count": null,
   "id": "8187caf7",
   "metadata": {},
   "outputs": [],
   "source": []
  },
  {
   "cell_type": "code",
   "execution_count": null,
   "id": "8a297cd4",
   "metadata": {},
   "outputs": [],
   "source": []
  },
  {
   "cell_type": "code",
   "execution_count": null,
   "id": "d0ba7b8b",
   "metadata": {},
   "outputs": [],
   "source": []
  },
  {
   "cell_type": "markdown",
   "id": "cf10b9c3",
   "metadata": {},
   "source": [
    "--- Part Two ---\n",
    "\n",
    "\n",
    "It seems like there is still quite a bit of duplicate work planned. Instead, the Elves would like to know the number of pairs that overlap at all.\n",
    "\n",
    "In the above example, the first two pairs (2-4,6-8 and 2-3,4-5) don't overlap, while the remaining four pairs (5-7,7-9, 2-8,3-7, 6-6,4-6, and 2-6,4-8) do overlap:\n",
    "\n",
    "5-7,7-9 overlaps in a single section, 7.\n",
    "2-8,3-7 overlaps all of the sections 3 through 7.\n",
    "6-6,4-6 overlaps in a single section, 6.\n",
    "2-6,4-8 overlaps in sections 4, 5, and 6.\n",
    "So, in this example, the number of overlapping assignment pairs is 4.\n",
    "\n",
    "In how many assignment pairs do the ranges overlap?"
   ]
  },
  {
   "cell_type": "code",
   "execution_count": 5,
   "id": "5585ba50",
   "metadata": {},
   "outputs": [],
   "source": [
    "# reading file\n",
    "\n",
    "txt = open(\"/Users/adolci/Documents/Python/private/advent_of_code/problem_4_input.txt\", 'r').read()\n",
    "couples = txt.split(\"\\n\")[:-1]  # last element is empty"
   ]
  },
  {
   "cell_type": "code",
   "execution_count": 6,
   "id": "8f8905e1",
   "metadata": {},
   "outputs": [],
   "source": [
    "def sort_couple_with_smaller_first(couple):\n",
    "    if couple[0][0] <= couple[1][0]:\n",
    "        return couple\n",
    "    else:\n",
    "        return [couple[1], couple[0]]"
   ]
  },
  {
   "cell_type": "code",
   "execution_count": 7,
   "id": "9c004758",
   "metadata": {},
   "outputs": [],
   "source": [
    "overlap_couples = 0\n",
    "\n",
    "for couple in couples:\n",
    "    \n",
    "    split_couple = split_couple_into_two_elements(couple)\n",
    "    sort_couple = sort_couple_with_smaller_first(split_couple)\n",
    "    \n",
    "    if sort_couple[0][1] >= sort_couple[1][0]:\n",
    "        overlap_couples += 1"
   ]
  },
  {
   "cell_type": "code",
   "execution_count": 8,
   "id": "697a915c",
   "metadata": {},
   "outputs": [
    {
     "name": "stdout",
     "output_type": "stream",
     "text": [
      "We have 952 overlap couples.\n"
     ]
    }
   ],
   "source": [
    "print(f'We have {overlap_couples} overlap couples.')"
   ]
  },
  {
   "cell_type": "code",
   "execution_count": null,
   "id": "a0b24555",
   "metadata": {},
   "outputs": [],
   "source": []
  }
 ],
 "metadata": {
  "kernelspec": {
   "display_name": "Python 3 (ipykernel)",
   "language": "python",
   "name": "python3"
  },
  "language_info": {
   "codemirror_mode": {
    "name": "ipython",
    "version": 3
   },
   "file_extension": ".py",
   "mimetype": "text/x-python",
   "name": "python",
   "nbconvert_exporter": "python",
   "pygments_lexer": "ipython3",
   "version": "3.9.13"
  }
 },
 "nbformat": 4,
 "nbformat_minor": 5
}
