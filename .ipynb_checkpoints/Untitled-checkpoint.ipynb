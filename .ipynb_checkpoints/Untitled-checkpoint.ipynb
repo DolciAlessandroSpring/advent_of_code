{
 "cells": [
  {
   "cell_type": "markdown",
   "id": "9a628b55",
   "metadata": {},
   "source": [
    "## Problem 1.1"
   ]
  },
  {
   "cell_type": "markdown",
   "id": "23b00958",
   "metadata": {},
   "source": [
    "The Elves take turns writing down the number of Calories contained by the various meals, snacks, rations, etc. that they've brought with them, one item per line. Each Elf separates their own inventory from the previous Elf's inventory (if any) by a blank line.\n",
    "\n",
    "For example, suppose the Elves finish writing their items' Calories and end up with the following list:\n",
    "\n",
    "1000\n",
    "2000\n",
    "3000\n",
    "\n",
    "4000\n",
    "\n",
    "5000\n",
    "6000\n",
    "\n",
    "7000\n",
    "8000\n",
    "9000\n",
    "\n",
    "10000\n",
    "\n",
    "This list represents the Calories of the food carried by five Elves:\n",
    "\n",
    "The first Elf is carrying food with 1000, 2000, and 3000 Calories, a total of 6000 Calories.\n",
    "The second Elf is carrying one food item with 4000 Calories.\n",
    "The third Elf is carrying food with 5000 and 6000 Calories, a total of 11000 Calories.\n",
    "The fourth Elf is carrying food with 7000, 8000, and 9000 Calories, a total of 24000 Calories.\n",
    "\n",
    "The fifth Elf is carrying one food item with 10000 Calories.\n",
    "In case the Elves get hungry and need extra snacks, they need to know which Elf to ask: they'd like to know how many Calories are being carried by the Elf carrying the most Calories. In the example above, this is 24000 (carried by the fourth Elf).\n",
    "\n",
    "Find the Elf carrying the most Calories. How many total Calories is that Elf carrying?"
   ]
  },
  {
   "cell_type": "code",
   "execution_count": 89,
   "id": "b06b2023",
   "metadata": {},
   "outputs": [],
   "source": [
    "# reading file\n",
    "\n",
    "txt = open(\"/Users/adolci/Documents/Python/private/advent_of_code/problem_1_1_input.txt\", 'r').read()\n",
    "elves = txt.split(\"\\n\\n\")"
   ]
  },
  {
   "cell_type": "code",
   "execution_count": 101,
   "id": "7cbe69e1",
   "metadata": {},
   "outputs": [
    {
     "name": "stdout",
     "output_type": "stream",
     "text": [
      "['9686\\n10178\\n3375\\n9638\\n6318\\n4978\\n5988\\n6712', '10422\\n3062\\n2753\\n3695\\n1722\\n8110\\n6568\\n7124', '3162\\n6117\\n2560\\n8788\\n2413\\n3719\\n1052\\n1349\\n4780\\n5178', '24919\\n15983\\n18045', '24872\\n35761', '20914', '4701\\n7592\\n1014\\n12219\\n3794\\n6893', '6471\\n5100\\n4297\\n8538\\n3923\\n8135\\n2015\\n2255', '1631\\n8016\\n4371\\n5797\\n5252\\n1487\\n8289\\n8886\\n1149', '8082\\n8747\\n4577\\n3624\\n4481\\n7947\\n2790\\n9217\\n4729']\n"
     ]
    }
   ],
   "source": [
    "# show the list of elves\n",
    "print(elves[:10])"
   ]
  },
  {
   "cell_type": "code",
   "execution_count": 103,
   "id": "783b78fe",
   "metadata": {},
   "outputs": [],
   "source": [
    "# for each elf, sum the calories of their food, in order to have the total calories for each one of them.\n",
    "calories = []\n",
    "for elf in elves:\n",
    "    calories_per_elf = sum([int(food) if len(food)>1 else 0 for food in elf.split(\"\\n\")])\n",
    "    calories.append(calories_per_elf)"
   ]
  },
  {
   "cell_type": "code",
   "execution_count": 95,
   "id": "f95d6b94",
   "metadata": {},
   "outputs": [
    {
     "data": {
      "text/plain": [
       "True"
      ]
     },
     "execution_count": 95,
     "metadata": {},
     "output_type": "execute_result"
    }
   ],
   "source": [
    "# double check that the number of elves and lenght of the list are the same\n",
    "len(elves) == len(calories)"
   ]
  },
  {
   "cell_type": "code",
   "execution_count": 104,
   "id": "764f460f",
   "metadata": {},
   "outputs": [
    {
     "name": "stdout",
     "output_type": "stream",
     "text": [
      "69206\n"
     ]
    }
   ],
   "source": [
    "# RESULT\n",
    "print(max(calories))"
   ]
  }
 ],
 "metadata": {
  "kernelspec": {
   "display_name": "Python 3 (ipykernel)",
   "language": "python",
   "name": "python3"
  },
  "language_info": {
   "codemirror_mode": {
    "name": "ipython",
    "version": 3
   },
   "file_extension": ".py",
   "mimetype": "text/x-python",
   "name": "python",
   "nbconvert_exporter": "python",
   "pygments_lexer": "ipython3",
   "version": "3.9.13"
  }
 },
 "nbformat": 4,
 "nbformat_minor": 5
}
