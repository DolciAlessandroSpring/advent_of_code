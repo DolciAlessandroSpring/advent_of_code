{
 "cells": [
  {
   "cell_type": "markdown",
   "id": "2a9b60e3",
   "metadata": {},
   "source": [
    "--- Day 6: Tuning Trouble ---\n",
    "\n",
    "\n",
    "The preparations are finally complete; you and the Elves leave camp on foot and begin to make your way toward the star fruit grove.\n",
    "\n",
    "As you move through the dense undergrowth, one of the Elves gives you a handheld device. He says that it has many fancy features, but the most important one to set up right now is the communication system.\n",
    "\n",
    "However, because he's heard you have significant experience dealing with signal-based systems, he convinced the other Elves that it would be okay to give you their one malfunctioning device - surely you'll have no problem fixing it.\n",
    "\n",
    "As if inspired by comedic timing, the device emits a few colorful sparks.\n",
    "\n",
    "To be able to communicate with the Elves, the device needs to lock on to their signal. The signal is a series of seemingly-random characters that the device receives one at a time.\n",
    "\n",
    "To fix the communication system, you need to add a subroutine to the device that detects a start-of-packet marker in the datastream. In the protocol being used by the Elves, the start of a packet is indicated by a sequence of four characters that are all different.\n",
    "\n",
    "The device will send your subroutine a datastream buffer (your puzzle input); your subroutine needs to identify the first position where the four most recently received characters were all different. Specifically, it needs to report the number of characters from the beginning of the buffer to the end of the first such four-character marker.\n",
    "\n",
    "For example, suppose you receive the following datastream buffer:\n",
    "\n",
    "`mjqjpqmgbljsphdztnvjfqwrcgsmlb`\n",
    "\n",
    "After the first three characters (mjq) have been received, there haven't been enough characters received yet to find the marker. The first time a marker could occur is after the fourth character is received, making the most recent four characters mjqj. Because j is repeated, this isn't a marker.\n",
    "\n",
    "The first time a marker appears is after the seventh character arrives. Once it does, the last four characters received are jpqm, which are all different. In this case, your subroutine should report the value 7, because the first start-of-packet marker is complete after 7 characters have been processed.\n",
    "\n",
    "Here are a few more examples:\n",
    "\n",
    "bvwbjplbgvbhsrlpgdmjqwftvncz: first marker after character 5\n",
    "nppdvjthqldpwncqszvftbrmjlhg: first marker after character 6\n",
    "nznrnfrfntjfmvfwmzdfjlvtqnbhcprsg: first marker after character 10\n",
    "zcfzfwzzqfrljwzlrfnpqdbhtmscgvjw: first marker after character 11\n",
    "\n",
    "How many characters need to be processed before the first start-of-packet marker is detected?"
   ]
  },
  {
   "cell_type": "code",
   "execution_count": 33,
   "id": "74f0a545",
   "metadata": {},
   "outputs": [],
   "source": [
    "txt = open(\"/Users/adolci/Documents/Python/private/advent_of_code/problem_6_input.txt\", 'r').read()"
   ]
  },
  {
   "cell_type": "code",
   "execution_count": 34,
   "id": "bb17f455",
   "metadata": {},
   "outputs": [
    {
     "name": "stdout",
     "output_type": "stream",
     "text": [
      "['q', 'v', 'l', 'l', 'n', 'd', 'l', 'l', 'h', 'z', 'h', 'f', 'z', 'h', 'h', 'd', 'z', 'h', 'd', 'd', 'h', 'j', 'd', 'j', 'g', 'g', 'v', 'n', 'v', 'h', 'v', 'c', 'c', 'm', 'f', 'f', 'w', 'l', 'l', 'q', 'g', 'q', 'm', 'm', 'f', 'j', 'f', 'q', 'f', 'h', 'h', 't', 'r', 'r', 'z', 'c', 'z', 'j', 'c', 'z', 'z', 'l', 'p', 'l', 'd', 'd', 'f', 'p', 'p', 't', 'q', 'q', 'f', 'b', 'q', 'f', 'f', 'm', 'n', 'm', 'j', 'n', 'n', 'q', 'p', 'p', 'f', 'j', 'f', 'c', 'c', 'g', 'n', 'n', 'm', 'q', 'q', 's', 'v', 'v', 'd', 'b', 'b', 'g', 'p', 'p', 'j', 'v', 'p', 'j', 'v', 'p', 'j', 'j', 'c', 't', 'j', 'j', 't', 't', 'w', 't', 'r', 'r', 'd', 'l', 'd', 'l', 'c', 'd', 'd', 'r', 'v', 'd', 'd', 'q', 'n', 'd', 'q', 'n', 'q', 'w', 'q', 'w', 'z', 'w', 'f', 'w', 'w', 'z', 'c', 'z', 'g', 'g', 'c', 'p', 'p', 'g', 'z', 'p', 'z', 'h', 'p', 'z', 'h', 'p', 'p', 'p', 'r', 'f', 'f', 'f', 'b', 'h', 'h', 'w', 'm', 'h', 'h', 't', 'f', 't', 's', 't', 'r', 's', 'r', 'v', 's', 'r', 'v', 's', 'r', 'v', 'v', 's', 'h', 'v', 's', 's', 'n', 'w', 'w', 'p', 'l', 'l', 'h', 'f', 'h', 'n', 'n', 'f', 'f', 'l', 'c', 'l', 't', 'l', 'b', 'l', 'z', 'l', 'q', 'l', 'v', 'q', 'l', 'v', 'l', 'c', 'l', 'd', 'c', 'c', 'c', 'p', 'p', 't', 'g', 'g', 't', 'd', 'g', 'd', 'j', 'd', 'b', 'b', 'r', 'g', 'g', 'm', 'b', 'm', 'n', 'n', 'c', 's', 'c', 'b', 's', 's', 'q', 'r', 'r', 'j', 'd', 'd', 'v', 'c', 'v', 'g', 'v', 'f', 'f', 'l', 'p', 'p', 'p', 'g', 'p', 'v', 'p', 'h', 'v', 'p', 'h', 'h', 'p', 'c', 'p', 'z', 'p', 'z', 'v', 'v', 'c', 't', 'v', 'c', 't', 'v', 't', 'h', 't', 'w', 't', 'f', 'w', 'w', 'b', 'r', 'r', 'h', 'h', 'l', 'p', 'l', 'm', 'l', 'w', 'w', 'l', 'q', 'l', 'n', 'l', 'h', 'h', 't', 'm', 'h', 'm', 'm', 'q', 'l', 'q', 'p', 'l', 'l', 'l', 'r', 'v', 'r', 'g', 'v', 'r', 'v', 'r', 'f', 'f', 'z', 'f', 'g', 'f', 'j', 'f', 'j', 't', 'j', 'm', 'j', 'v', 'm', 'j', 'm', 'w', 'm', 'v', 'v', 'j', 'f', 'f', 'm', 'p', 'f', 'p', 'h', 'f', 'h', 'v', 'f', 'v', 'm', 'f', 'v', 'm', 'm', 'h', 'p', 'p', 'h', 'h', 'l', 't', 't', 'h', 'g', 't', 't', 'g', 'c', 'c', 'q', 'g', 'g', 'p', 'z', 'p', 'f', 'p', 'q', 'p', 'c', 'p', 'v', 'c', 'p', 'v', 'c', 'v', 'v', 'q', 't', 'q', 'v', 'q', 'b', 'b', 'r', 'l', 'r', 't', 'l', 'l', 'm', 'r', 'm', 'l', 'l', 'h', 'm', 'h', 'v', 'm', 'h', 'h', 'v', 'z', 'h', 'v', 'z', 'v', 'r', 'r', 'r', 'z', 'j', 'z', 'b', 'b', 't', 'v', 'v', 'b', 'g', 'v', 'b', 'b', 'f', 'n', 'n', 'q', 'n', 'd', 'q', 'n', 'n', 'p', 'n', 'b', 'n', 'b', 'n', 'l', 'n', 'g', 'g', 'w', 'q', 'g', 'g', 'm', 'g', 'm', 'q', 'm', 'g', 'm', 'b', 'b', 'm', 'c', 'c', 'g', 'q', 'c', 'q', 'b', 'c', 'c', 'p', 'v', 'c', 'v', 'n', 'n', 'h', 'v', 'v', 'r', 'v', 'l', 'r', 'r', 'c', 'w', 'r', 'c', 'w', 'r', 'c', 'w', 'r', 'w', 'b', 'r', 'w', 'w', 'z', 'b', 'w', 'b', 'd', 'b', 'f', 'd', 'd', 'p', 't', 't', 'n', 't', 'z', 'z', 'j', 's', 'z', 's', 'n', 'z', 'n', 'b', 'n', 'd', 'n', 'z', 'n', 'g', 'z', 'g', 'c', 'c', 'j', 'r', 'c', 'j', 'c', 'h', 'c', 'f', 'f', 'm', 'l', 'm', 'q', 'q', 'l', 'r', 'q', 'q', 'z', 's', 'q', 'z', 'z', 's', 'b', 's', 'n', 's', 't', 't', 'z', 'p', 'z', 't', 'p', 'z', 'p', 'g', 'g', 'z', 'r', 'r', 't', 't', 'b', 'q', 'q', 'p', 'l', 'p', 'q', 'l', 'q', 'j', 'j', 'q', 'c', 'q', 'v', 'c', 'c', 'd', 'z', 'd', 'c', 'c', 't', 'h', 'c', 'c', 'v', 'f', 'c', 'v', 'v', 'q', 'v', 'h', 'q', 'h', 'f', 'h', 'h', 'z', 'w', 'z', 'p', 'z', 'w', 'p', 'p', 'g', 'p', 't', 't', 'n', 't', 's', 's', 'f', 'l', 'f', 'j', 'j', 'r', 'w', 'r', 'q', 'r', 'j', 'r', 'p', 'p', 'p', 't', 'l', 'l', 't', 'p', 't', 'p', 'v', 't', 't', 'p', 'f', 'p', 'w', 'p', 's', 'w', 'p', 'p', 'p', 'z', 'z', 's', 'r', 'z', 's', 's', 'q', 'l', 'l', 'b', 'n', 'l', 'l', 'j', 'p', 'l', 'l', 'r', 'j', 'l', 'l', 's', 'r', 'l', 'r', 'h', 'r', 'd', 'r', 'm', 'd', 'r', 'm', 'r', 'r', 'p', 's', 'r', 'p', 'r', 'n', 'r', 'f', 'f', 'g', 'r', 'f', 'f', 'd', 'q', 'd', 'h', 'd', 'q', 'h', 'h', 'r', 'h', 'g', 'g', 'w', 'q', 'q', 'l', 'd', 'd', 's', 'b', 's', 'q', 'b', 'q', 't', 'q', 'd', 't', 'd', 'h', 'd', 'v', 'h', 'h', 'b', 'd', 'h', 'd', 'z', 'h', 'd', 'h', 'h', 't', 'r', 'r', 'p', 'p', 'z', 'd', 'd', 'g', 'f', 'g', 'z', 'g', 'p', 'z', 'p', 'v', 'p', 'f', 'p', 'n', 'p', 'p', 't', 'g', 'g', 'l', 't', 'g', 'g', 'b', 'n', 'b', 'p', 'p', 'q', 'f', 'f', 'z', 'f', 'r', 'z', 'z', 'z', 's', 'b', 's', 'r', 'r', 'd', 'g', 'r', 'd', 'd', 'w', 's', 'd', 's', 'q', 'd', 'd', 'h', 'p', 'd', 'p', 'b', 'p', 'v', 'p', 'f', 'v', 'p', 'p', 'f', 's', 'f', 'g', 'f', 'n', 'g', 'f', 'f', 'z', 'm', 'z', 'b', 'z', 'l', 'b', 'l', 'c', 'l', 's', 'c', 'c', 'v', 'q', 'v', 'q', 'm', 'm', 'j', 't', 'j', 'q', 't', 'j', 'j', 'l', 'c', 'j', 'l', 'l', 's', 'd', 'd', 'j', 'q', 'd', 'd', 'h', 'l', 'd', 'l', 'v', 'l', 'r', 'r', 'b', 'g', 'b', 'r', 'g', 'b', 'r', 'r', 'd', 'z', 'z', 'p', 'f', 'p', 'g', 'g', 'q', 'n', 'q', 'b', 'q', 'r', 'r', 'q', 'b', 'b', 'g', 'j', 'g', 'p', 'p', 'q', 'g', 'p', 'g', 'w', 'g', 'q', 'q', 'n', 'd', 'n', 'c', 'n', 'd', 'n', 'p', 'd', 'n', 'n', 'b', 'v', 'b', 'n', 'v', 'n', 'w', 'n', 'j', 'j', 'g', 'p', 'p', 'z', 'l', 'p', 'l', 'q', 'q', 'd', 'g', 'q', 'g', 'h', 'q', 'g', 'q', 'z', 'g', 'g', 'j', 's', 's', 'q', 'm', 'm', 'w', 'w', 'c', 'f', 'c', 'p', 'p', 't', 'r', 'p', 'p', 'r', 'g', 'g', 'r', 'p', 'p', 'g', 'b', 'p', 'l', 'm', 'z', 'w', 'm', 'd', 't', 'n', 'p', 'q', 'w', 'z', 'c', 'r', 't', 'h', 'q', 'b', 'p', 'p', 'w', 'b', 'g', 'c', 'v', 'g', 'q', 'r', 'p', 'f', 'p', 'n', 'b', 's', 'c', 'n', 'h', 'v', 'r', 'l', 'l', 'p', 'v', 'p', 'q', 'w', 'n', 's', 's', 'l', 'c', 'j', 'r', 'q', 't', 'v', 'd', 'c', 'c', 'p', 'r', 'v', 'q', 'f', 'r', 'p', 's', 'w', 't', 'p', 'v', 'z', 'd', 'z', 'l', 'g', 't', 'm', 'm', 'v', 'p', 'p', 'd', 'm', 'h', 'g', 'd', 'b', 'b', 's', 'm', 'r', 'b', 'q', 'p', 'q', 's', 'p', 'd', 'h', 'p', 'q', 'g', 'f', 'j', 'z', 'n', 'q', 'z', 'p', 'h', 'r', 'n', 'g', 'g', 'c', 'b', 'z', 'h', 'd', 'q', 'r', 'g', 'v', 'z', 'c', 'f', 'z', 'r', 'h', 't', 'r', 'l', 's', 's', 'g', 'm', 'j', 'j', 'g', 'h', 'q', 's', 'j', 't', 'g', 'h', 'h', 'n', 'w', 'j', 'f', 'f', 'q', 'r', 'r', 'f', 's', 'l', 'f', 'n', 's', 'v', 'v', 'd', 'v', 'f', 'j', 'q', 'b', 'f', 'p', 'f', 'f', 'r', 'r', 's', 't', 'd', 'h', 'g', 'g', 'v', 'b', 'f', 'w', 't', 'f', 'p', 'f', 'g', 's', 'w', 'q', 'l', 'f', 'd', 'r', 'n', 'j', 'p', 'j', 'm', 'w', 'z', 'p', 't', 'l', 'b', 'm', 'w', 'g', 'g', 'h', 'g', 'w', 'q', 'r', 'p', 'h', 'c', 'r', 'v', 'f', 'm', 'h', 'r', 'p', 'l', 'l', 'l', 'g', 'b', 'n', 'j', 'l', 'p', 'r', 'l', 'l', 'm', 'j', 'w', 'c', 'c', 'p', 'h', 's', 'f', 'l', 'n', 't', 'g', 'p', 'n', 'b', 'm', 'd', 'b', 'f', 'q', 'c', 'd', 's', 'b', 'g', 'v', 'r', 'n', 'f', 'z', 'n', 'f', 'r', 'l', 'c', 'f', 'v', 's', 'w', 'q', 'f', 'r', 'q', 'v', 'd', 'n', 'b', 'j', 's', 'f', 'l', 'n', 's', 'm', 'l', 'c', 'r', 'd', 's', 't', 'z', 'p', 'p', 'm', 'c', 'v', 'b', 'g', 'd', 't', 'c', 'v', 'g', 'z', 't', 'b', 'd', 'z', 'q', 'b', 'w', 'h', 'm', 'w', 'c', 'f', 'v', 'b', 'w', 'j', 'j', 'c', 'd', 'g', 'b', 'n', 'w', 'j', 'w', 'z', 'r', 'r', 'd', 'q', 'h', 'p', 'g', 's', 'c', 'w', 't', 'n', 'z', 't', 'j', 's', 'f', 's', 't', 'z', 'f', 'w', 'f', 't', 'c', 'l', 'd', 'j', 'g', 'v', 'd', 'v', 'w', 'b', 'z', 'r', 'l', 'b', 'd', 's', 'l', 'w', 't', 't', 'b', 'q', 'p', 'n', 'l', 'w', 'b', 'j', 'c', 'j', 'w', 'q', 'g', 't', 'r', 'g', 'c', 'g', 'l', 's', 'g', 't', 'd', 'q', 'b', 'q', 'b', 'n', 'q', 'z', 'n', 'p', 't', 'z', 'z', 'b', 'w', 'f', 'f', 'w', 'l', 'w', 'z', 'v', 'v', 't', 'd', 'p', 'c', 'j', 'b', 'v', 'h', 'n', 's', 'w', 'z', 'p', 't', 'c', 'l', 'p', 'b', 'n', 'd', 'c', 'd', 'v', 's', 'f', 'm', 'c', 'r', 'm', 'w', 'w', 'g', 'z', 'd', 'f', 's', 's', 'z', 'q', 'j', 'j', 'd', 'z', 't', 'm', 't', 's', 'q', 'g', 'f', 'q', 'z', 'j', 'p', 'c', 't', 'f', 'd', 'p', 'w', 'n', 'z', 'b', 'p', 'n', 'z', 'z', 'w', 'n', 'g', 'q', 'n', 'g', 'h', 'n', 't', 'b', 'l', 'n', 'd', 'f', 'r', 'n', 'j', 'z', 'd', 'r', 'm', 'g', 'b', 'q', 'm', 'z', 'b', 'd', 'q', 'f', 'z', 'c', 't', 'r', 'g', 's', 'h', 'w', 'q', 'g', 'f', 'g', 'q', 's', 's', 'q', 'j', 'l', 't', 'r', 'q', 'l', 'z', 'j', 's', 'w', 'j', 'h', 'm', 'p', 'g', 'w', 'w', 'j', 'd', 'w', 'c', 'j', 'p', 'n', 's', 'v', 'g', 'r', 'v', 'b', 'f', 'p', 'm', 'l', 'm', 'm', 'w', 'z', 'm', 'b', 'd', 'j', 'w', 's', 'r', 'j', 't', 'h', 'p', 'p', 'f', 'r', 'c', 'c', 'j', 'g', 'n', 'm', 'w', 'l', 'v', 'q', 'l', 'p', 'r', 'g', 's', 'l', 'b', 'w', 't', 'b', 'b', 'z', 'l', 'q', 'b', 'z', 'n', 'c', 'z', 'm', 's', 'm', 'h', 's', 'f', 'd', 'c', 'q', 'n', 'w', 'b', 'l', 'p', 'r', 'c', 'p', 'b', 'z', 'z', 'w', 'f', 'l', 'l', 'b', 'n', 'l', 'd', 'v', 'p', 'j', 'c', 'w', 's', 'd', 'h', 'g', 'l', 'r', 'z', 'j', 's', 'p', 't', 'm', 's', 'j', 'd', 'j', 'q', 'z', 's', 'm', 'g', 'v', 'h', 'j', 'f', 'j', 'r', 'r', 't', 'v', 'v', 'b', 'j', 'l', 'm', 'z', 'j', 's', 'n', 't', 'n', 'r', 'g', 'g', 'w', 'b', 'p', 'j', 'l', 'r', 'j', 'g', 'g', 'f', 'g', 'q', 'z', 'v', 's', 'w', 't', 'g', 'g', 't', 'h', 'z', 'f', 'm', 'f', 'j', 'n', 'm', 'r', 'z', 'r', 't', 't', 'b', 'z', 'q', 'p', 'w', 'p', 's', 'n', 'm', 'd', 't', 'n', 'b', 'f', 'b', 'l', 'p', 'f', 'g', 's', 'l', 'g', 'c', 'm', 'j', 'l', 'b', 'd', 'p', 's', 'h', 'n', 'n', 'r', 'b', 'h', 'v', 'w', 's', 'b', 'r', 'n', 'v', 'd', 'm', 'j', 'q', 'h', 'v', 'h', 'd', 'j', 'h', 'b', 'f', 'z', 'j', 'm', 'q', 'r', 'm', 'q', 'm', 'd', 't', 'h', 'h', 'z', 'v', 'n', 'r', 'm', 'q', 'c', 'n', 'b', 't', 'w', 'c', 'd', 'j', 'd', 'q', 'f', 'v', 'd', 'g', 'v', 'm', 'f', 'b', 'h', 'r', 'f', 'q', 'n', 'm', 'd', 'n', 'c', 'r', 'd', 'd', 'g', 'g', 't', 'c', 'p', 'p', 'j', 'l', 'z', 'n', 'b', 's', 'n', 'n', 't', 'p', 'p', 'j', 't', 'n', 's', 'q', 's', 'r', 'j', 'w', 'v', 'f', 'r', 'z', 'p', 'n', 'z', 'q', 'c', 'r', 'z', 'h', 'h', 'd', 'f', 'l', 'f', 'm', 'm', 't', 'm', 'w', 'c', 'v', 't', 'p', 'z', 'b', 'q', 'h', 'd', 'w', 's', 'c', 'z', 'f', 'f', 'c', 'q', 'h', 't', 'd', 'b', 'd', 'j', 'b', 'l', 'm', 'g', 'n', 'r', 'm', 'h', 'l', 'q', 'c', 's', 'v', 'c', 'p', 'g', 'g', 'h', 'h', 'v', 'w', 'q', 'h', 'd', 't', 'z', 'p', 'z', 'l', 'p', 'f', 'l', 'l', 'c', 'h', 'z', 'l', 't', 'q', 'g', 'c', 'w', 'g', 'f', 'q', 'n', 'b', 'z', 'h', 'g', 'z', 'm', 'd', 'w', 'q', 'd', 'l', 'w', 'n', 'v', 'h', 'q', 'm', 'p', 'q', 'j', 'q', 'n', 'j', 'b', 'h', 'j', 'c', 't', 's', 'l', 'g', 'h', 'd', 'q', 'v', 'c', 't', 'd', 'm', 'j', 'f', 'w', 'd', 'f', 'p', 'd', 'j', 'n', 'h', 'd', 'n', 'd', 'z', 'w', 's', 'f', 'j', 'z', 'l', 'm', 's', 'b', 'm', 'f', 'm', 'z', 'v', 'n', 'v', 'p', 'q', 'g', 'q', 'h', 't', 'n', 'g', 'v', 'g', 'q', 'm', 'l', 'r', 'r', 'z', 's', 'f', 'm', 'w', 'l', 'c', 'w', 's', 's', 'c', 'v', 'g', 'h', 'j', 'v', 'r', 'z', 'j', 'j', 'q', 'b', 'n', 'p', 'l', 'n', 'j', 'z', 'q', 's', 'w', 'p', 'b', 'l', 'w', 'z', 'w', 'c', 'z', 'h', 'w', 'b', 'h', 'h', 'n', 'j', 'm', 'c', 't', 'n', 'm', 'w', 'l', 'b', 'q', 'q', 'f', 'm', 'n', 'l', 'w', 'd', 'c', 'r', 'p', 't', 'l', 'm', 'f', 'j', 'p', 'j', 'r', 'n', 'p', 'c', 'v', 'm', 'h', 'f', 'f', 'j', 'h', 'w', 'h', 'm', 'n', 't', 'd', 'z', 'p', 'd', 'j', 'z', 'w', 'z', 'h', 'r', 'r', 's', 'd', 'v', 'm', 'j', 'l', 'w', 'd', 't', 'c', 'p', 'v', 'j', 'f', 'm', 'f', 'z', 'f', 's', 'r', 'g', 'j', 'g', 'h', 'h', 'l', 'v', 'm', 'j', 'j', 'j', 'c', 'z', 'g', 'm', 'h', 'v', 'r', 'f', 'p', 'g', 'q', 'b', 'n', 'h', 'l', 'd', 'w', 'b', 'r', 'j', 'g', 'z', 'm', 'n', 's', 'z', 'z', 'b', 's', 's', 'f', 'z', 'c', 'g', 'g', 'r', 'w', 'm', 'd', 'f', 'v', 'd', 'd', 'w', 's', 'd', 'm', 'n', 'w', 't', 'w', 'f', 'w', 'l', 'f', 'n', 'w', 'l', 'v', 'z', 'l', 'c', 't', 'f', 'b', 'l', 'b', 't', 'r', 'j', 'v', 'c', 'w', 'j', 'j', 'd', 'l', 'j', 'p', 'l', 'c', 'r', 'j', 'h', 'w', 'q', 's', 'l', 'p', 'p', 'w', 'w', 't', 'v', 'f', 'q', 'w', 's', 'j', 'l', 'f', 'm', 'd', 'z', 'n', 'm', 'c', 'd', 'z', 'd', 'm', 'g', 'v', 'm', 'm', 's', 'r', 'f', 'c', 'c', 'l', 'c', 'v', 'h', 't', 'r', 'h', 'l', 's', 'j', 'z', 'r', 'b', 'j', 'w', 'r', 'j', 'l', 'f', 'n', 'v', 'q', 'h', 'q', 'v', 'm', 'p', 'z', 'm', 'd', 't', 't', 'n', 'b', 'h', 'f', 'c', 'v', 'n', 'q', 'l', 'r', 'q', 'b', 'c', 's', 'v', 't', 'v', 'w', 'f', 'c', 'c', 'j', 's', 't', 'j', 'p', 'm', 'h', 'q', 'g', 'w', 'l', 'n', 'r', 'z', 'j', 'j', 'm', 'f', 'd', 's', 'z', 'f', 'l', 'm', 'g', 'l', 'r', 'd', 'b', 'p', 'q', 'h', 'q', 'h', 'q', 's', 'd', 'f', 'z', 'r', 'c', 'l', 'j', 'b', 'd', 'v', 'v', 'n', 'l', 'c', 'q', 'f', 'l', 'l', 'm', 'n', 'q', 'c', 'j', 'f', 'z', 'j', 'p', 'p', 'd', 's', 'j', 'w', 's', 'h', 'f', 's', 'c', 'h', 'z', 'q', 'b', 'n', 'w', 'f', 'q', 'n', 'p', 'w', 'h', 'q', 'n', 'm', 'w', 's', 'j', 'b', 't', 'c', 'g', 'v', 'r', 'l', 'j', 's', 'r', 't', 'z', 'v', 'c', 'v', 'g', 'h', 'c', 'j', 'j', 'l', 'q', 's', 'n', 'g', 'g', 'l', 'c', 'g', 'g', 'q', 'p', 'n', 't', 'r', 'r', 'h', 'b', 'j', 'p', 'b', 'f', 'h', 'm', 'v', 'p', 'l', 't', 'm', 'n', 'f', 'm', 'f', 'd', 't', 'w', 'n', 'c', 'z', 'w', 'f', 'b', 'v', 'j', 'c', 'q', 'n', 'h', 'v', 'p', 'p', 'j', 'f', 't', 'w', 'v', 'w', 's', 'r', 'l', 'h', 'v', 'v', 'c', 'j', 't', 's', 'f', 'p', 't', 'p', 'q', 'g', 'r', 'm', 'r', 'q', 'w', 'w', 'd', 'd', 'n', 'q', 'm', 'n', 'm', 'f', 'g', 'r', 'l', 'n', 'p', 'h', 'b', 'p', 'q', 'h', 'h', 'h', 'v', 'g', 'l', 'q', 'g', 't', 'w', 'v', 'n', 'w', 'v', 'n', 'b', 's', 's', 'f', 't', 'm', 'w', 't', 't', 'm', 'f', 'r', 'f', 'f', 'w', 't', 'z', 'h', 'r', 'p', 'q', 's', 'p', 'c', 'l', 'v', 'g', 'c', 'h', 'w', 'q', 'w', 'c', 's', 'g', 'w', 'q', 'w', 'w', 'v', 'p', 'g', 'c', 'w', 'n', 'g', 'r', 'c', 'f', 'm', 'h', 'b', 'h', 'f', 'l', 'w', 'f', 'b', 'f', 'c', 'h', 'l', 'p', 'h', 'd', 'z', 'd', 'c', 'r', 'f', 'l', 'f', 'm', 'f', 'c', 'l', 's', 'n', 'g', 't', 'l', 'w', 'r', 'q', 'c', 'r', 's', 'g', 'r', 'd', 'z', 'c', 'p', 'd', 's', 'v', 'v', 'c', 'd', 'b', 'h', 'g', 't', 'l', 'j', 'm', 'b', 'n', 't', 'b', 'b', 'c', 'q', 'g', 'j', 'q', 'f', 's', 'b', 'f', 'w', 'z', 'l', 'f', 's', 'n', 'l', 'j', 'p', 'j', 'd', 'c', 'n', 'm', 'j', 'l', 'q', 'r', 'w', 'p', 'm', 'l', 'v', 'w', 'g', 'd', 'l', 'r', 'r', 'd', 'g', 'f', 'h', 'd', 'q', 'h', 'z', 'g', 'l', 't', 'm', 'c', 'l', 'z', 'g', 'z', 'z', 'h', 'm', 'r', 'b', 'g', 'g', 's', 'm', 'g', 't', 'p', 'q', 'd', 'r', 'g', 'm', 'j', 't', 'l', 'z', 'w', 's', 't', 'r', 'w', 'b', 'p', 'v', 'h', 'p', 'p', 'v', 's', 'm', 'd', 'q', 'v', 'v', 'w', 'w', 'g', 'l', 'z', 'j', 'g', 'd', 's', 'w', 'j', 's', 'z', 'q', 'm', 'r', 'd', 'b', 'm', 's', 'h', 'b', 'h', 'h', 'c', 's', 't', 'p', 'c', 's', 'j', 'd', 'b', 'v', 'g', 'j', 'n', 'v', 'c', 'm', 'v', 'h', 'b', 't', 'c', 'l', 'r', 'l', 'm', 'l', 'g', 'n', 'v', 'p', 'p', 'g', 'v', 'n', 'c', 's', 'r', 'f', 'c', 'h', 'd', 'b', 'q', 'j', 'r', 'c', 'l', 'w', 'w', 'l', 'n', 'c', 'h', 'm', 'c', 'g', 'v', 's', 'h', 'f', 's', 'b', 's', 'v', 'v', 'c', 'v', 'j', 'r', 's', 'g', 'j', 'l', 'n', 's', 'f', 'q', 't', 'q', 'm', 'g', 'n', 't', 'f', 'f', 'w', 'n', 'q', 'j', 't', 'l', 'd', 'c', 'q', 'b', 'c', 'q', 'h', 's', 'g', 'z', 't', 'l', 'l', 's', 't', 's', 'w', 'w', 'q', 'n', 'f', 'r', 's', 'w', 'p', 'c', 'h', 'q', 'h', 'n', 'f', 'z', 'z', 'z', 's', 'z', 'q', 'j', 'z', 't', 'z', 'f', 'r', 'g', 'r', 'b', 'j', 'd', 'b', 'j', 'l', 'p', 'v', 'q', 'f', 'q', 'r', 'l', 'r', 'm', 'm', 'p', 'b', 'f', 'b', 'b', 'c', 'c', 'l', 'r', 'g', 'm', 'n', 'l', 'z', 'w', 'q', 'r', 'j', 'h', 'q', 'r', 's', 't', 's', 'w', 'j', 'p', 'g', 's', 'r', 't', 'n', 'l', 'w', 's', 'b', 'q', 't', 'h', 'z', 'p', 'v', 'd', 'z', 'l', 'l', 'z', 'q', 'm', 'd', 'm', 'b', 'v', 'v', 't', 'c', 'z', 't', 'f', 't', 'v', 'l', 'w', 'p', 'h', 'h', 'j', 'z', 'b', 'f', 'n', 'r', 'v', 'c', 'c', 'f', 'm', 'h', 'm', 'v', 'm', 'z', 'l', 'b', 'r', 'z', 'l', 'n', 'p', 'p', 'f', 'z', 'c', 's', 'f', 'f', 'j', 'v', 'j', 'm', 'b', 'g', 'p', 'v', 'l', 'w', 'g', 'w', 's', 'z', 'p', 'z', 't', 'j', 'p', 's', 'r', 'b', 'n', 'f', 't', 'q', 't', 'd', 'r', 'b', 'n', 'l', 'j', 't', 'b', 'r', 'j', 'z', 'z', 'b', 'w', 'l', 's', 'v', 't', 'w', 't', 'l', 'w', 'p', 't', 'd', 't', 'n', 'm', 't', 'n', 'c', 'v', 'c', 'b', 'l', 'c', 'm', 'd', 'n', 'g', 'j', 'z', 'm', 'c', 't', 'l', 'q', 't', 'z', 'c', 'h', 'n', 'c', 'c', 'c', 'n', 'w', 'j', 'z', 'r', 'r', 'm', 'm', 'm', 'n', 'l', 'l', 'b', 'h', 'r', 'n', 'h', 'w', 't', 'q', 'j', 's', 'n', 'v', 'c', 's', 'l', 'r', 'q', 'j', 'f', 'b', 'f', 'n', 'd', 'q', 'v', 'd', 'l', 'r', 'j', 's', 'h', 'd', 'z', 'm', 'l', 'p', 'r', 't', 'z', 'b', 't', 'n', 'h', 't', 'h', 'd', 'q', 'h', 'p', 'l', 'w', 'z', 'd', 'b', 'n', 'j', 'm', 'g', 'z', 'l', 'z', 'r', 'b', 'z', 'r', 'v', 'r', 'q', 'n', 'f', 'l', 'w', 'f', 'm', 's', 'm', 'b', 's', 's', 'q', 'n', 'b', 'c', 'd', 'd', 'n', 'v', 'd', 'p', 'l', 't', 'p', 'm', 'p', 'l', 'p', 'd', 'z', 'v', 't', 'j', 'r', 's', 'l', 'c', 'd', 'c', 'n', 'r', 'd', 'p', 'l', 'w', 't', 'j', 't', 'v', 'c', 't', 'w', 'f', 'z', 'h', 'l', 'v', 'w', 'w', 'q', 'q', 't', 'b', 'q', 'c', 'j', 'j', 'w', 'h', 'h', 'n', 'p', 'm', 'v', 'g', 'z', 'h', 'q', 'm', 'q', 'f', 'g', 't', 'h', 'w', 'b', 'p', 'h', 'r', 'm', 'r', 't', 'd', 'g', 'h', 'c', 'h', 's', 'm', 'w', 'g', 'h', 'd', 'q', 'j', 'g', 'j', 'g', 'm', 'p', 'd', 'd', 'b', 'r', 't', 'n', 'g', 't', 'v', 'h', 'q', 'g', 'j', 'f', 'r', 'p', 'l', 'r', 'd', 'g', 'p', 'b', 'n', 'h', 'q', 'v', 's', 'w', 'r', 'm', 'q', 'h', 'c', 'm', 's', 'q', 'v', 's', 'q', 'm', 'q', 's', 'g', 'w', 'j', 'n', 'd', 'w', 'j', 'r', 'b', 'r', 'h', 'v', 'r', 'c', 't', 'm', 'm', 'r', 'm', 'f', 'w', 'p', 's', 'g', 'f', 'g', 'd', 'l', 'r', 'z', 'p', 's', 'l', 'p', 'f', 'l', 'g', 'v', 'w', 'r', 'g', 'c', 't', 'h', 'g', 'c', 'r', 'n', 'h', 'g', 'r', 'z', 's', 'm', 'q', 'd', 'g', 'd', 's', 's', 'j', 'g', 's', 'p', 'f', 'h', 'm', 'q', 'f', 'm', 'j', 'f', 'p', 'm', 'w', 'q', 'h', 'n', 'f', 'j', 'd', 'v', 'q', 'z', 'h', 'p', 'n', 'd', 'v', 'n', 'b', 'm', 'q', 'g', 'l', 'b', 'r', 'j', 'm', 'd', 'r', 'w', 'g', 'm', 'g', 'c', 't', 'r', 'g', 'z', 'p', 's', 'd', 'v', 'f', 'b', 'm', 'c', 's', 't', 'c', 's', 'l', 'b', 'l', 'm', 'v', 'n', 'p', 'r', 'p', 'h', 'n', 't', 'g', 's', 'l', 'm', 'l', 'r', 'q', 'w', 't', 'h', 'r', 'n', 'd', 'r', 'h', 't', 'b', 'c', 'c', 'g', 'z', 'z', 'f', 's', 'g', 'l', 'h', 'g', 'q', 'z', 't', 'c', 's', 'n', 'q', 'j', 'w', 'f', 'z', 'b', 'z', 'l', 'v', 'r', 'p', 'b', 'v', 's', 'w', 'b', 'h', 'r', 'w', 'd', 's', 'r', 'h', 'r', 'r', 'p', 'n', 'r', 'm', 's', 'b', 'v', 'b', 'v', 'j', 'c', 'c', 'b', 'd', 's', 'd', 'c', 'f', 'r', 'r', 'z', 'p', 'g', 'w', 'j', 't', 'n', 'n', 'n', 'v', 'j', 'w', 'l', 'c', 'p', 'p', 'w', 'z', 'd', 'q', 's', 'b', 'd', 'z', 'p', 'f', 'j', 'p', 'l', 'r', 'l', 'f', 'g', 'v', 'j', 'p', 's', 'm', 'b', 'z', 'w', 'p', 'w', 'l', 'g', 'h', 'n', 'v', 'q', 'g', 'd', 'd', 'f', 'j', 'v', 'r', 's', 'z', 't', 'r', 'p', 'z', 'l', 'f', 'g', 'm', 'q', 'q', 'z', 'r', 'f', 'c', 'g', 'g', 'l', 'g', 'h', 'n', 'd', 'b', 'h', 'g', 'b', 'm', 'l', 'd', 'g', 'l', 'c', 'l', 'h', 'l', 'd', 'l', 'j', 'j', 'd', 's', 'l', 'v', 'h', 'z', 's', 'h', 's', 'h', 't', 'q', 'w', 'h', 'q', 'n', 'b', 'z', 'h', 'v', 'q', 'r', 'c', 'm', 'w', 'd', 'm', 'c', 'm', 'h', 'j', 'c', 'r', 'm', 'd', 'm', 'h', 'r', 'w', 'n', 'w', 'c', 'b', 'h', 'v', 'b', 'b', 'r', 'w', 'r', 'b', 't', 'f', 'd', 'n', 'z', 't', 'w', 'n', 'b', 'p', 'd', 'f', 'j', 'f', 'h', 'g', 'r', 'm', 'c', 'p', 'n', 'g', 'f', 't', 's', 'v', 'b', 's', 'm', 's', 'p', 't', 'n', 'w', 'c', 'v', 'v', 'l', 'l', 'n', 'm', 'b', 'n', 's', 'n', 't', 'b', 'z', 'm', 'w', 'n', 'h', 'f', 'd', 'p', 't', 'b', 't', 'z', 's', 'w', 't', 'j', 'z', 'd', 'q', 'w', 'j', 'd', 'h', 'p', 'r', 'n', 'j', 'w', 'v', 'h', 'z', 'p', 's', 'c', 'j', 'v', 'l', 's', 'g', 'r', 'h', 'd', 'r', 'm', 'm', 'r', 'm', 'h', 'z', 'h', 'w', 'w', 't', 's', 'l', 'z', 'd', 'j', 'q', 'm', 'z', 'f', 'n', 'c', 'n', 'm', 'g', 'p', 'l', 'h', 'n', 'm', 'w', 'r', 'v', 'q', 'h', 's', 'l', 'v', 'c', 'h', 't', 'j', 'c', 'm', 'p', 'z', 'p', 'j', 'p', 'n', 'p', 'f', 'b', 'j', 'p', 't', 'v', 'v', 'w', 'c', 's', 'm', 'h', 'g', 'd', 'j', 't', 's', 'q', 'r', 'j', 'l', 'f', 'p', 'n', 'f', 'd', 'n', 'c', 'p', 'q', 'q', 'm', 'p', 'g', 'p', 'v', 't', 'l', 'v', 'w', 'l', 'j', 'l', 's', 'q', 'b', 'n', 'h', 't', 's', 'q', 'g', 'f', 'w', 'l', 's', 'm', 'd', 'j', 'p', 'g', 't', 'v', 'g', 'j', 'v', 'j', 'c', 'r', 'n', 'n', 'z', 'm', 'b', 'l', 'l', 'q', 'z', 'l', 'r', 'f', 'd', 'n', 'l', 'f', 'f', 'g', 'm', 't', 'p', 'h', 'h', 'h', 'g', 'b', 'c', 'j', 'g', 'd', 'l', 'p', 'z', 'q', 'p', 'w', 'm', 'j', 'w', 't', 'c', 'm', 'd', 'r', 's', 'm', 't', 'n', 'm', 'd', 'd', 'f', 't', 'w', 'c', 'z', 'b', 's', 'd', 'd', 't', 'p', 'p', 's', 'p', 't', 'b', 'w', 'f', 'v', 'p', 'n', 'f', 'n', 's', 'q', 'm', 's', 'g', 'c', 'f', 'q', 'f', 'm', 'n', 'z', 'f', 'f', 'z', 'q', 'g', 'c', 'd', 'v', 'w', 'z', 'r', 'g', 'd', 'w', 'h', 'm', 'n', 'z', 'm', 'r', 'l', 'h', 'c', 'd', 'p', 'd', 's', 'l', 't', 'n', 's', 'm', 'j', 'z', 'd', 'q', 'w', 'm', 'm', 'p', 'w', 'v', 'j', 'q', 'b', 'b', 'w', 's', 'r', 'f', 'g', 'z', 'h']\n"
     ]
    }
   ],
   "source": [
    "signal = list(txt)[:-1]\n",
    "print(signal)"
   ]
  },
  {
   "cell_type": "code",
   "execution_count": 38,
   "id": "cbe93f3f",
   "metadata": {},
   "outputs": [],
   "source": [
    "for counter in range(4, len(signal)):\n",
    "    if len(set(signal[counter-4:counter])) == 4:\n",
    "        break"
   ]
  },
  {
   "cell_type": "code",
   "execution_count": 39,
   "id": "f79d4b14",
   "metadata": {},
   "outputs": [
    {
     "name": "stdout",
     "output_type": "stream",
     "text": [
      "Start of packet: 1034\n"
     ]
    }
   ],
   "source": [
    "print(f'Start of packet: {counter}')"
   ]
  },
  {
   "cell_type": "code",
   "execution_count": null,
   "id": "f9460ace",
   "metadata": {},
   "outputs": [],
   "source": []
  },
  {
   "cell_type": "code",
   "execution_count": null,
   "id": "a7aaf2aa",
   "metadata": {},
   "outputs": [],
   "source": []
  },
  {
   "cell_type": "markdown",
   "id": "7101a816",
   "metadata": {},
   "source": [
    "--- Part Two ---\n",
    "\n",
    "\n",
    "Your device's communication system is correctly detecting packets, but still isn't working. It looks like it also needs to look for messages.\n",
    "\n",
    "A start-of-message marker is just like a start-of-packet marker, except it consists of 14 distinct characters rather than 4.\n",
    "\n",
    "Here are the first positions of start-of-message markers for all of the above examples:\n",
    "\n",
    "mjqjpqmgbljsphdztnvjfqwrcgsmlb: first marker after character 19\n",
    "bvwbjplbgvbhsrlpgdmjqwftvncz: first marker after character 23\n",
    "nppdvjthqldpwncqszvftbrmjlhg: first marker after character 23\n",
    "nznrnfrfntjfmvfwmzdfjlvtqnbhcprsg: first marker after character 29\n",
    "zcfzfwzzqfrljwzlrfnpqdbhtmscgvjw: first marker after character 26\n",
    "\n",
    "\n",
    "How many characters need to be processed before the first start-of-message marker is detected?"
   ]
  },
  {
   "cell_type": "code",
   "execution_count": 51,
   "id": "a12e49f9",
   "metadata": {},
   "outputs": [],
   "source": [
    "for counter in range(14, len(signal)):\n",
    "    if len(set(signal[counter-14:counter])) == 14:\n",
    "        break"
   ]
  },
  {
   "cell_type": "code",
   "execution_count": 53,
   "id": "ea1ea26e",
   "metadata": {},
   "outputs": [
    {
     "name": "stdout",
     "output_type": "stream",
     "text": [
      "First real message after 2472 characters\n"
     ]
    }
   ],
   "source": [
    "print(f'First real message after {counter} characters.')"
   ]
  },
  {
   "cell_type": "code",
   "execution_count": null,
   "id": "834596f9",
   "metadata": {},
   "outputs": [],
   "source": []
  }
 ],
 "metadata": {
  "kernelspec": {
   "display_name": "Python 3 (ipykernel)",
   "language": "python",
   "name": "python3"
  },
  "language_info": {
   "codemirror_mode": {
    "name": "ipython",
    "version": 3
   },
   "file_extension": ".py",
   "mimetype": "text/x-python",
   "name": "python",
   "nbconvert_exporter": "python",
   "pygments_lexer": "ipython3",
   "version": "3.9.13"
  }
 },
 "nbformat": 4,
 "nbformat_minor": 5
}
