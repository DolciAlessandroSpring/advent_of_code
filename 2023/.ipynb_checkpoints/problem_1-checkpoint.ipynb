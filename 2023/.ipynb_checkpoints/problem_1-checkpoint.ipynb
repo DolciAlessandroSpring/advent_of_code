{
 "cells": [
  {
   "cell_type": "markdown",
   "id": "8e295909",
   "metadata": {},
   "source": [
    "## Problem 1\n",
    "\n",
    "The newly-improved calibration document consists of lines of text; each line originally contained a specific calibration value that the Elves now need to recover. On each line, the calibration value can be found by combining the first digit and the last digit (in that order) to form a single two-digit number.\n",
    "\n",
    "For example:\n",
    "\n",
    "```\n",
    "1abc2\n",
    "pqr3stu8vwx\n",
    "a1b2c3d4e5f\n",
    "treb7uchet\n",
    "```\n",
    "\n",
    "In this example, the calibration values of these four lines are 12, 38, 15, and 77. Adding these together produces 142.\n",
    "\n",
    "Consider your entire calibration document. What is the sum of all of the calibration values?"
   ]
  },
  {
   "cell_type": "code",
   "execution_count": 129,
   "id": "42051429",
   "metadata": {},
   "outputs": [],
   "source": [
    "import re"
   ]
  },
  {
   "cell_type": "code",
   "execution_count": 130,
   "id": "dac8af68",
   "metadata": {},
   "outputs": [],
   "source": [
    "# reading file\n",
    "txt = open(\"/Users/adolci/Documents/Python/private/advent_of_code/2023/problem_1_input.txt\", 'r').read()\n",
    "\n",
    "# split into rows and remove the last element (empty)\n",
    "txt = txt.split(\"\\n\")[:-1]"
   ]
  },
  {
   "cell_type": "code",
   "execution_count": 131,
   "id": "2d470069",
   "metadata": {},
   "outputs": [],
   "source": [
    "# getting only digits (remove all caracters)\n",
    "only_digits = [list(re.sub(\"[^0-9]\", \"\", item)) for item in txt]\n",
    "\n",
    "# for each element, concatenate the first and the last digit\n",
    "first_and_last = [(item[0] + item[len(item)-1]) for item in only_digits]\n",
    "\n",
    "# cast the list to INT and sum it all\n",
    "tot_sum = sum(list(map(int, first_and_last)))"
   ]
  },
  {
   "cell_type": "code",
   "execution_count": 132,
   "id": "6078d04e",
   "metadata": {},
   "outputs": [
    {
     "data": {
      "text/plain": [
       "54388"
      ]
     },
     "execution_count": 132,
     "metadata": {},
     "output_type": "execute_result"
    }
   ],
   "source": [
    "tot_sum\n",
    "# it should be 54388"
   ]
  },
  {
   "cell_type": "code",
   "execution_count": null,
   "id": "dfc50fa6",
   "metadata": {},
   "outputs": [],
   "source": []
  },
  {
   "cell_type": "markdown",
   "id": "3389c919",
   "metadata": {},
   "source": [
    "### --- Part Two ---\n",
    "\n",
    "Your calculation isn't quite right. It looks like some of the digits are actually spelled out with letters: one, two, three, four, five, six, seven, eight, and nine also count as valid \"digits\".\n",
    "\n",
    "Equipped with this new information, you now need to find the real first and last digit on each line. For example:\n",
    "\n",
    "```\n",
    "two1nine\n",
    "eightwothree\n",
    "abcone2threexyz\n",
    "xtwone3four\n",
    "4nineeightseven2\n",
    "zoneight234\n",
    "7pqrstsixteen\n",
    "```\n",
    "\n",
    "In this example, the calibration values are 29, 83, 13, 24, 42, 14, and 76. Adding these together produces 281.\n",
    "\n",
    "What is the sum of all of the calibration values?"
   ]
  },
  {
   "cell_type": "code",
   "execution_count": 133,
   "id": "c305ecd7",
   "metadata": {},
   "outputs": [],
   "source": [
    "# reading file\n",
    "txt = open(\"/Users/adolci/Documents/Python/private/advent_of_code/2023/problem_1_input.txt\", 'r').read()\n",
    "\n",
    "# split into rows and remove the last element (empty)\n",
    "txt = txt.split(\"\\n\")[:-1]"
   ]
  },
  {
   "cell_type": "code",
   "execution_count": 134,
   "id": "2e54ae82",
   "metadata": {},
   "outputs": [],
   "source": [
    "digits_as_string_dict = {\n",
    "    \"one\":   \"1\",\n",
    "    \"two\":   \"2\",\n",
    "    \"three\": \"3\",\n",
    "    \"four\":  \"4\",\n",
    "    \"five\":  \"5\",\n",
    "    \"six\":   \"6\",\n",
    "    \"seven\": \"7\",\n",
    "    \"eight\": \"8\",\n",
    "    \"nine\":  \"9\",\n",
    "}"
   ]
  },
  {
   "cell_type": "code",
   "execution_count": 135,
   "id": "ec94ddaa",
   "metadata": {},
   "outputs": [],
   "source": [
    "def from_string_to_digit(string, digits_as_string_dict):\n",
    "    for word, digit in digits_as_string_dict.items():\n",
    "        string = string.replace(word.lower(), digit)\n",
    "    return string"
   ]
  },
  {
   "cell_type": "code",
   "execution_count": 136,
   "id": "2ad97a5c",
   "metadata": {},
   "outputs": [],
   "source": [
    "numbers = []\n",
    "\n",
    "for item_idx in range(len(txt)):\n",
    "\n",
    "    item = txt[item_idx]\n",
    "\n",
    "    for i in range(1, len(item)+1):\n",
    "        tmp_item = item[:i]\n",
    "        tmp_item = from_string_to_digit(tmp_item, digits_as_string_dict)\n",
    "        only_digits = re.sub(\"[^0-9]\", \"\", tmp_item)\n",
    "        if len(only_digits) > 0:\n",
    "            numbers.append(only_digits)\n",
    "            break"
   ]
  },
  {
   "cell_type": "code",
   "execution_count": 137,
   "id": "be6a4fb4",
   "metadata": {},
   "outputs": [],
   "source": [
    "reverse_numbers = []\n",
    "\n",
    "for item_idx in range(len(txt)):\n",
    "\n",
    "    item = txt[item_idx]\n",
    "\n",
    "    for i in range(1, len(item)+1):\n",
    "        tmp_item = item[-i:]\n",
    "        tmp_item = from_string_to_digit(tmp_item, digits_as_string_dict)\n",
    "        only_digits = re.sub(\"[^0-9]\", \"\", tmp_item)\n",
    "        if len(only_digits) > 0:\n",
    "            reverse_numbers.append(only_digits)\n",
    "            break"
   ]
  },
  {
   "cell_type": "code",
   "execution_count": 138,
   "id": "f9bd33c4",
   "metadata": {},
   "outputs": [],
   "source": [
    "first_and_last = [str(m) + str(n) for m,n in zip(numbers, reverse_numbers)]\n",
    "tot_sum = sum(list(map(int, first_and_last)))"
   ]
  },
  {
   "cell_type": "code",
   "execution_count": 140,
   "id": "39f00d4e",
   "metadata": {},
   "outputs": [
    {
     "data": {
      "text/plain": [
       "53515"
      ]
     },
     "execution_count": 140,
     "metadata": {},
     "output_type": "execute_result"
    }
   ],
   "source": [
    "tot_sum\n",
    "# it should be 53515"
   ]
  },
  {
   "cell_type": "code",
   "execution_count": null,
   "id": "1acfec8d",
   "metadata": {},
   "outputs": [],
   "source": []
  }
 ],
 "metadata": {
  "kernelspec": {
   "display_name": "Python 3 (ipykernel)",
   "language": "python",
   "name": "python3"
  },
  "language_info": {
   "codemirror_mode": {
    "name": "ipython",
    "version": 3
   },
   "file_extension": ".py",
   "mimetype": "text/x-python",
   "name": "python",
   "nbconvert_exporter": "python",
   "pygments_lexer": "ipython3",
   "version": "3.9.13"
  }
 },
 "nbformat": 4,
 "nbformat_minor": 5
}
