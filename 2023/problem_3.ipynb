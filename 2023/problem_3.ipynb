{
 "cells": [
  {
   "cell_type": "markdown",
   "id": "8693cda3",
   "metadata": {},
   "source": [
    "## Problem 3\n",
    "\n",
    "The engineer explains that an engine part seems to be missing from the engine, but nobody can figure out which one. If you can add up all the part numbers in the engine schematic, it should be easy to work out which part is missing.\n",
    "\n",
    "The engine schematic (your puzzle input) consists of a visual representation of the engine. There are lots of numbers and symbols you don't really understand, but apparently any number adjacent to a symbol, even diagonally, is a \"part number\" and should be included in your sum. (Periods (.) do not count as a symbol.)\n",
    "\n",
    "Here is an example engine schematic:\n",
    "\n",
    "```\n",
    "467..114..\n",
    "...*......\n",
    "..35..633.\n",
    "......#...\n",
    "617*......\n",
    ".....+.58.\n",
    "..592.....\n",
    "......755.\n",
    "...$.*....\n",
    ".664.598..\n",
    "```\n",
    "\n",
    "In this schematic, two numbers are not part numbers because they are not adjacent to a symbol: 114 (top right) and 58 (middle right). Every other number is adjacent to a symbol and so is a part number; their sum is 4361.\n",
    "\n",
    "Of course, the actual engine schematic is much larger. What is the sum of all of the part numbers in the engine schematic?\n",
    "\n"
   ]
  },
  {
   "cell_type": "code",
   "execution_count": 387,
   "id": "a59af835",
   "metadata": {},
   "outputs": [],
   "source": [
    "import re"
   ]
  },
  {
   "cell_type": "code",
   "execution_count": 395,
   "id": "959dd647",
   "metadata": {},
   "outputs": [],
   "source": [
    "# reading file\n",
    "txt = open(\"/Users/adolci/Documents/Python/private/advent_of_code/2023/problem_3_input.txt\", 'r').read()\n",
    "\n",
    "# split into rows and remove the last element (empty)\n",
    "txt = txt.split(\"\\n\")[:-1]"
   ]
  },
  {
   "cell_type": "code",
   "execution_count": 396,
   "id": "d053f4db",
   "metadata": {},
   "outputs": [],
   "source": [
    "# add first and last rows full of dots -->\n",
    "# --> in this way you can generalise without a different logic for first and last row\n",
    "empty_txt = \".\" * len(txt[0])\n",
    "txt.insert(0, empty_txt)\n",
    "txt.append(empty_txt)\n",
    "\n",
    "# do the same for first column and last columns\n",
    "txt = [\".\" + t + \".\" for t in txt]"
   ]
  },
  {
   "cell_type": "code",
   "execution_count": 397,
   "id": "67be9ff5",
   "metadata": {},
   "outputs": [],
   "source": [
    "def is_weird_caracter(element):\n",
    "    '''\n",
    "    Returns True if the character in not a digic OR a dot.\n",
    "    Finding a \"weird\" character means that we want to sum the number.\n",
    "    '''\n",
    "    return bool(re.compile(r'[^0-9.]').match(element))\n",
    "\n",
    "\n",
    "def is_part_number_fun(current_row, prev_row, next_row, current_number):\n",
    "    '''\n",
    "    Check if a \"weird\" character is positioned around the current_number.\n",
    "    If so, it means that we want to sum the number.\n",
    "    '''\n",
    "    pos = current_row.find(current_number)\n",
    "\n",
    "    current_row_bool = (\n",
    "        is_weird_caracter(current_row[pos-1]) |\n",
    "        is_weird_caracter(current_row[pos+len(current_number)])\n",
    "    )\n",
    "\n",
    "    prev_next_row_bool = False\n",
    "    for p in range(pos-1, pos+len(current_number)+1):\n",
    "        prev_next_row_bool = (\n",
    "            prev_next_row_bool |\n",
    "            is_weird_caracter(prev_row[p]) |\n",
    "            is_weird_caracter(next_row[p])\n",
    "        )\n",
    "\n",
    "    return current_row_bool | prev_next_row_bool\n",
    "    \n",
    "\n",
    "def replace_current_number_with_code(current_row, current_number):\n",
    "    '''\n",
    "    After we are done with a number (disregard if it had a weird character around or not),\n",
    "    we want to transform it in a string of @.\n",
    "    For ex: ..123.. --> ..@@@..\n",
    "    This is done for not confusing a number already used with one still to be used.\n",
    "    '''\n",
    "    pattern = r'\\b' + re.escape(current_number) + r'\\b'\n",
    "    match = re.search(pattern, current_row)\n",
    "    pos = match.start()\n",
    "    return current_row[:pos] + (\"@\" * len(current_number)) + current_row[pos+len(current_number):]\n",
    "\n",
    "    \n",
    "def sum_all_part_numbers_in_row(txt, r):\n",
    "    '''\n",
    "    Given a row, check for each number if it has weird character around.\n",
    "    If yes we sum it, otherwise no.\n",
    "    '''\n",
    "    prev_row = txt[r-1]\n",
    "    current_row = txt[r]\n",
    "    next_row = txt[r+1]\n",
    "    \n",
    "    sum_part_numbers = 0\n",
    "\n",
    "    for current_number in re.findall(r'\\d+', current_row):\n",
    "        if is_part_number_fun(current_row, prev_row, next_row, current_number):\n",
    "            sum_part_numbers += int(current_number)\n",
    "        current_row = replace_current_number_with_code(current_row, current_number)\n",
    "    return sum_part_numbers"
   ]
  },
  {
   "cell_type": "code",
   "execution_count": 398,
   "id": "18e9b7ce",
   "metadata": {
    "scrolled": true
   },
   "outputs": [
    {
     "name": "stdout",
     "output_type": "stream",
     "text": [
      "Result: 522726\n"
     ]
    }
   ],
   "source": [
    "sum_part_numbers = 0\n",
    "\n",
    "for r in range(1, len(txt)-1):\n",
    "    sum_part_numbers += sum_all_part_numbers_in_row(txt, r)\n",
    "\n",
    "print(\"Result:\", sum_part_numbers)"
   ]
  },
  {
   "cell_type": "code",
   "execution_count": null,
   "id": "de94e388",
   "metadata": {},
   "outputs": [],
   "source": []
  },
  {
   "cell_type": "code",
   "execution_count": null,
   "id": "6cefb436",
   "metadata": {},
   "outputs": [],
   "source": []
  },
  {
   "cell_type": "code",
   "execution_count": 394,
   "id": "2e74a295",
   "metadata": {},
   "outputs": [
    {
     "name": "stdout",
     "output_type": "stream",
     "text": [
      "522726 81721933\n"
     ]
    }
   ],
   "source": [
    "import math as m, re\n",
    "\n",
    "board = list(open(\"/Users/adolci/Documents/Python/private/advent_of_code/2023/problem_3_input.txt\"))\n",
    "chars = {(r, c): [] for r in range(140) for c in range(140)\n",
    "                    if board[r][c] not in '01234566789.'}\n",
    "\n",
    "for r, row in enumerate(board):\n",
    "    for n in re.finditer(r'\\d+', row):\n",
    "        edge = {(r, c) for r in (r-1, r, r+1)\n",
    "                       for c in range(n.start()-1, n.end()+1)}\n",
    "\n",
    "        for o in edge & chars.keys():\n",
    "            chars[o].append(int(n.group()))\n",
    "\n",
    "print(sum(sum(p)    for p in chars.values()),\n",
    "      sum(m.prod(p) for p in chars.values() if len(p)==2))"
   ]
  },
  {
   "cell_type": "code",
   "execution_count": null,
   "id": "b96c42a1",
   "metadata": {},
   "outputs": [],
   "source": []
  },
  {
   "cell_type": "code",
   "execution_count": null,
   "id": "0f760453",
   "metadata": {},
   "outputs": [],
   "source": []
  },
  {
   "cell_type": "markdown",
   "id": "4ab120a1",
   "metadata": {},
   "source": [
    "### --- Part Two ---\n",
    "\n",
    "The missing part wasn't the only issue - one of the gears in the engine is wrong. A gear is any * symbol that is adjacent to exactly two part numbers. Its gear ratio is the result of multiplying those two numbers together.\n",
    "\n",
    "This time, you need to find the gear ratio of every gear and add them all up so that the engineer can figure out which gear needs to be replaced.\n",
    "\n",
    "Consider the same engine schematic again:\n",
    "\n",
    "```\n",
    "467..114..\n",
    "...*......\n",
    "..35..633.\n",
    "......#...\n",
    "617*......\n",
    ".....+.58.\n",
    "..592.....\n",
    "......755.\n",
    "...$.*....\n",
    ".664.598..\n",
    "```\n",
    "\n",
    "In this schematic, there are two gears. The first is in the top left; it has part numbers 467 and 35, so its gear ratio is 16345. The second gear is in the lower right; its gear ratio is 451490. (The * adjacent to 617 is not a gear because it is only adjacent to one part number.) Adding up all of the gear ratios produces 467835.\n",
    "\n",
    "What is the sum of all of the gear ratios in your engine schematic?"
   ]
  },
  {
   "cell_type": "code",
   "execution_count": null,
   "id": "9d66f530",
   "metadata": {},
   "outputs": [],
   "source": []
  }
 ],
 "metadata": {
  "kernelspec": {
   "display_name": "Python 3 (ipykernel)",
   "language": "python",
   "name": "python3"
  },
  "language_info": {
   "codemirror_mode": {
    "name": "ipython",
    "version": 3
   },
   "file_extension": ".py",
   "mimetype": "text/x-python",
   "name": "python",
   "nbconvert_exporter": "python",
   "pygments_lexer": "ipython3",
   "version": "3.9.13"
  }
 },
 "nbformat": 4,
 "nbformat_minor": 5
}
